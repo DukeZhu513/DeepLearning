{
  "nbformat": 4,
  "nbformat_minor": 0,
  "metadata": {
    "colab": {
      "provenance": [],
      "authorship_tag": "ABX9TyMRJT9JsNZVqpU1CzgWfrug",
      "include_colab_link": true
    },
    "kernelspec": {
      "name": "python3",
      "display_name": "Python 3"
    },
    "language_info": {
      "name": "python"
    }
  },
  "cells": [
    {
      "cell_type": "markdown",
      "metadata": {
        "id": "view-in-github",
        "colab_type": "text"
      },
      "source": [
        "<a href=\"https://colab.research.google.com/github/DukeZhu513/DeepLearning/blob/main/MNIST.ipynb\" target=\"_parent\"><img src=\"https://colab.research.google.com/assets/colab-badge.svg\" alt=\"Open In Colab\"/></a>"
      ]
    },
    {
      "cell_type": "code",
      "source": [
        "import torch\n",
        "from torchvision import datasets\n",
        "from torchvision import transforms\n",
        "import torch.nn as nn\n",
        "import torch.optim as optim"
      ],
      "metadata": {
        "id": "Yf-5ZSzTXF2V"
      },
      "execution_count": null,
      "outputs": []
    },
    {
      "cell_type": "markdown",
      "source": [
        "#Data"
      ],
      "metadata": {
        "id": "XcOXo_FEYFEh"
      }
    },
    {
      "cell_type": "code",
      "source": [
        "train_data = datasets.MNIST(root = \"data/mnist\",train = True, transform = transforms.ToTensor(),download = True)\n",
        "test_data = datasets.MNIST(root = \"data/mnist\",train = False, transform = transforms.ToTensor(),download = True)"
      ],
      "metadata": {
        "id": "mt14XABxXF-3"
      },
      "execution_count": null,
      "outputs": []
    },
    {
      "cell_type": "code",
      "source": [
        "batch_size = 100\n",
        "train_loader = torch.utils.data.DataLoader(dataset = train_data,batch_size=batch_size,shuffle=True)\n",
        "test_loader = torch.utils.data.DataLoader(dataset = test_data,batch_size=batch_size,shuffle=False)"
      ],
      "metadata": {
        "id": "O5e9A1tMY63b"
      },
      "execution_count": null,
      "outputs": []
    },
    {
      "cell_type": "markdown",
      "source": [
        "# Net"
      ],
      "metadata": {
        "id": "2KhsPTfXaZol"
      }
    },
    {
      "cell_type": "code",
      "source": [
        "class MLP(nn.Module):\n",
        "    def __init__(self, input_size, hidden_size, num_classes):\n",
        "        super(MLP, self).__init__()\n",
        "        self.fc1 = nn.Linear(input_size, hidden_size)\n",
        "        self.relu = nn.ReLU()\n",
        "        self.fc2 = nn.Linear(hidden_size, hidden_size)\n",
        "        self.fc3 = nn.Linear(hidden_size, num_classes)\n",
        "\n",
        "    def forward(self, x):\n",
        "        out = self.fc1(x)\n",
        "        out = self.relu(out)\n",
        "        out = self.fc2(out)\n",
        "        out = self.relu(out)\n",
        "        out = self.fc3(out)\n",
        "        return out\n",
        "\n",
        "# 定义参数\n",
        "input_size = 28 * 28\n",
        "hidden_size = 512\n",
        "num_classes = 10\n",
        "\n",
        "# 初始化 MLP\n",
        "model = MLP(input_size, hidden_size, num_classes)"
      ],
      "metadata": {
        "id": "UCJz64s7Z9Qr"
      },
      "execution_count": null,
      "outputs": []
    },
    {
      "cell_type": "markdown",
      "source": [
        "# Loss"
      ],
      "metadata": {
        "id": "4NaJWIkBkuU5"
      }
    },
    {
      "cell_type": "code",
      "source": [
        "criterion = nn.CrossEntropyLoss()"
      ],
      "metadata": {
        "id": "04MtE8PLd25N"
      },
      "execution_count": null,
      "outputs": []
    },
    {
      "cell_type": "markdown",
      "source": [
        "# Optim"
      ],
      "metadata": {
        "id": "f_Nxgit2k4-R"
      }
    },
    {
      "cell_type": "code",
      "source": [
        "learning_rate = 0.001 #学习率\n",
        "optimizer = optim.Adam(model.parameters(),lr = learning_rate)"
      ],
      "metadata": {
        "id": "WOz-4Syzd3Om"
      },
      "execution_count": null,
      "outputs": []
    },
    {
      "cell_type": "markdown",
      "source": [],
      "metadata": {
        "id": "kRmw-TVXmN_5"
      }
    },
    {
      "cell_type": "markdown",
      "source": [
        "#Training"
      ],
      "metadata": {
        "id": "twKuH78vabpy"
      }
    },
    {
      "cell_type": "code",
      "source": [
        "# 训练网络\n",
        "num_epochs = 10\n",
        "for epoch in range(num_epochs):\n",
        "  for i,(images,labels) in enumerate(train_loader):\n",
        "    #将images转成向量\n",
        "    images = images.reshape(-1, 28 * 28)\n",
        "    #将数据送到网络中\n",
        "    outputs = model(images)\n",
        "    #计算损失\n",
        "    loss = criterion(outputs, labels)\n",
        "\n",
        "    optimizer.zero_grad() #梯度清零\n",
        "    loss.backward() #反向传播\n",
        "    optimizer.step() #更新参数\n",
        "\n",
        "    if (i+1) % 100 == 0:\n",
        "      print(f'Epoch [{epoch+1}/{num_epochs}], Step[{i+1}/{len(train_loader)}], Loss: {loss.item():.4f}')\n",
        "\n"
      ],
      "metadata": {
        "id": "8-kCJ8aCacAj",
        "colab": {
          "base_uri": "https://localhost:8080/"
        },
        "outputId": "5ec56cf7-4a91-49f5-e8e3-fef5ab6f05b4"
      },
      "execution_count": null,
      "outputs": [
        {
          "output_type": "stream",
          "name": "stdout",
          "text": [
            "Epoch [1/10], Step[100/600], Loss: 0.1977\n",
            "Epoch [1/10], Step[200/600], Loss: 0.1331\n",
            "Epoch [1/10], Step[300/600], Loss: 0.1637\n",
            "Epoch [1/10], Step[400/600], Loss: 0.1718\n",
            "Epoch [1/10], Step[500/600], Loss: 0.1643\n",
            "Epoch [1/10], Step[600/600], Loss: 0.2495\n",
            "Epoch [2/10], Step[100/600], Loss: 0.0483\n",
            "Epoch [2/10], Step[200/600], Loss: 0.1478\n",
            "Epoch [2/10], Step[300/600], Loss: 0.0508\n",
            "Epoch [2/10], Step[400/600], Loss: 0.0376\n",
            "Epoch [2/10], Step[500/600], Loss: 0.0496\n",
            "Epoch [2/10], Step[600/600], Loss: 0.1710\n",
            "Epoch [3/10], Step[100/600], Loss: 0.0188\n",
            "Epoch [3/10], Step[200/600], Loss: 0.0497\n",
            "Epoch [3/10], Step[300/600], Loss: 0.0893\n",
            "Epoch [3/10], Step[400/600], Loss: 0.0457\n",
            "Epoch [3/10], Step[500/600], Loss: 0.0752\n",
            "Epoch [3/10], Step[600/600], Loss: 0.0600\n",
            "Epoch [4/10], Step[100/600], Loss: 0.0453\n",
            "Epoch [4/10], Step[200/600], Loss: 0.0153\n",
            "Epoch [4/10], Step[300/600], Loss: 0.0307\n",
            "Epoch [4/10], Step[400/600], Loss: 0.0513\n",
            "Epoch [4/10], Step[500/600], Loss: 0.0326\n",
            "Epoch [4/10], Step[600/600], Loss: 0.0324\n",
            "Epoch [5/10], Step[100/600], Loss: 0.0217\n",
            "Epoch [5/10], Step[200/600], Loss: 0.0177\n",
            "Epoch [5/10], Step[300/600], Loss: 0.0714\n",
            "Epoch [5/10], Step[400/600], Loss: 0.0079\n",
            "Epoch [5/10], Step[500/600], Loss: 0.0074\n",
            "Epoch [5/10], Step[600/600], Loss: 0.0826\n",
            "Epoch [6/10], Step[100/600], Loss: 0.0407\n",
            "Epoch [6/10], Step[200/600], Loss: 0.0149\n",
            "Epoch [6/10], Step[300/600], Loss: 0.0010\n",
            "Epoch [6/10], Step[400/600], Loss: 0.0141\n",
            "Epoch [6/10], Step[500/600], Loss: 0.0272\n",
            "Epoch [6/10], Step[600/600], Loss: 0.0111\n",
            "Epoch [7/10], Step[100/600], Loss: 0.0051\n",
            "Epoch [7/10], Step[200/600], Loss: 0.0005\n",
            "Epoch [7/10], Step[300/600], Loss: 0.0232\n",
            "Epoch [7/10], Step[400/600], Loss: 0.0267\n",
            "Epoch [7/10], Step[500/600], Loss: 0.0036\n",
            "Epoch [7/10], Step[600/600], Loss: 0.0093\n",
            "Epoch [8/10], Step[100/600], Loss: 0.0004\n",
            "Epoch [8/10], Step[200/600], Loss: 0.0053\n",
            "Epoch [8/10], Step[300/600], Loss: 0.0107\n",
            "Epoch [8/10], Step[400/600], Loss: 0.0010\n",
            "Epoch [8/10], Step[500/600], Loss: 0.0210\n",
            "Epoch [8/10], Step[600/600], Loss: 0.0127\n",
            "Epoch [9/10], Step[100/600], Loss: 0.0036\n",
            "Epoch [9/10], Step[200/600], Loss: 0.0150\n",
            "Epoch [9/10], Step[300/600], Loss: 0.0548\n",
            "Epoch [9/10], Step[400/600], Loss: 0.0745\n",
            "Epoch [9/10], Step[500/600], Loss: 0.0648\n",
            "Epoch [9/10], Step[600/600], Loss: 0.0410\n",
            "Epoch [10/10], Step[100/600], Loss: 0.0048\n",
            "Epoch [10/10], Step[200/600], Loss: 0.0001\n",
            "Epoch [10/10], Step[300/600], Loss: 0.0014\n",
            "Epoch [10/10], Step[400/600], Loss: 0.0152\n",
            "Epoch [10/10], Step[500/600], Loss: 0.0003\n",
            "Epoch [10/10], Step[600/600], Loss: 0.0017\n"
          ]
        }
      ]
    },
    {
      "cell_type": "markdown",
      "source": [
        "# Test"
      ],
      "metadata": {
        "id": "Cx6ZqwQ-qp-b"
      }
    },
    {
      "cell_type": "code",
      "source": [
        "with torch.no_grad():\n",
        "  correct = 0\n",
        "  total = 0\n",
        "  #从test——loader中循环读取测试数据\n",
        "  for images, labels in test_loader:\n",
        "    #将images转成向量\n",
        "    images = images.reshape(-1,28*28)\n",
        "    outputs = model(images)\n",
        "    _, predicted = torch.max(outputs.data, 1)\n",
        "    total += labels.size(0)\n",
        "    correct += (predicted == labels).sum().item()\n",
        "\n",
        "  print(f'Accuracy of the network on the 10000 test images: {100 * correct / total}%')"
      ],
      "metadata": {
        "id": "s5F-zJVEacC0",
        "colab": {
          "base_uri": "https://localhost:8080/"
        },
        "outputId": "d9f2b0ba-c894-4c3b-8eb9-91f7306fd68e"
      },
      "execution_count": 30,
      "outputs": [
        {
          "output_type": "stream",
          "name": "stdout",
          "text": [
            "Accuracy of the network on the 10000 test images: 98.31%\n"
          ]
        }
      ]
    },
    {
      "cell_type": "markdown",
      "source": [
        "#Save"
      ],
      "metadata": {
        "id": "aQjTOU2oae9G"
      }
    },
    {
      "cell_type": "code",
      "source": [
        "torch.save(model,\"mnist_mlp_model.pk1\")"
      ],
      "metadata": {
        "id": "dMl0uF8xacFG"
      },
      "execution_count": 31,
      "outputs": []
    }
  ]
}