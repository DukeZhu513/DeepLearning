{
  "nbformat": 4,
  "nbformat_minor": 0,
  "metadata": {
    "colab": {
      "provenance": [],
      "authorship_tag": "ABX9TyMmb5aLguRj27NDQa6qveKV",
      "include_colab_link": true
    },
    "kernelspec": {
      "name": "python3",
      "display_name": "Python 3"
    },
    "language_info": {
      "name": "python"
    }
  },
  "cells": [
    {
      "cell_type": "markdown",
      "metadata": {
        "id": "view-in-github",
        "colab_type": "text"
      },
      "source": [
        "<a href=\"https://colab.research.google.com/github/DukeZhu513/DeepLearning/blob/main/Linear.ipynb\" target=\"_parent\"><img src=\"https://colab.research.google.com/assets/colab-badge.svg\" alt=\"Open In Colab\"/></a>"
      ]
    },
    {
      "cell_type": "code",
      "execution_count": 1,
      "metadata": {
        "id": "_wQZETTj6Wob"
      },
      "outputs": [],
      "source": [
        "import numpy as np\n",
        "import torch\n",
        "import matplotlib.pyplot as plt"
      ]
    },
    {
      "cell_type": "code",
      "source": [
        "np.random.seed(40)\n",
        "x = np.random.rand(100, 1)\n",
        "y = 1 + 2 * x + 0.2 * np.random.randn(100, 1)\n",
        "\n",
        "x_tensor = torch.from_numpy(x).float()\n",
        "y_tensor = torch.from_numpy(y).float()"
      ],
      "metadata": {
        "id": "x9UiI0OZ6cMY"
      },
      "execution_count": 2,
      "outputs": []
    },
    {
      "cell_type": "code",
      "source": [
        "learning_rate = 0.1\n",
        "num_epochs = 1000"
      ],
      "metadata": {
        "id": "IWO8JsRWKaNx"
      },
      "execution_count": 3,
      "outputs": []
    },
    {
      "cell_type": "code",
      "source": [
        "w = torch.randn(1, requires_grad = True)\n",
        "b = torch.zeros(1, requires_grad = True)"
      ],
      "metadata": {
        "id": "wLAXiG-VKaZ6"
      },
      "execution_count": 4,
      "outputs": []
    },
    {
      "cell_type": "code",
      "source": [
        "for epoch in range(num_epochs):\n",
        "  y_pred = x_tensor * w + b\n",
        "  loss = ((y_pred - y_tensor) ** 2).mean()\n",
        "  loss.backward()\n",
        "  with torch.no_grad():\n",
        "    w -= learning_rate * w.grad\n",
        "    b -= learning_rate * b.grad\n",
        "\n",
        "    w.grad.zero_()\n",
        "    b.grad.zero_()\n",
        "\n",
        "print('w: ',w)\n",
        "print('b: ',b)"
      ],
      "metadata": {
        "id": "pD6Zu_diKajr",
        "colab": {
          "base_uri": "https://localhost:8080/"
        },
        "outputId": "348156cb-f66a-45e7-a372-40ed1a34b1fc"
      },
      "execution_count": 6,
      "outputs": [
        {
          "output_type": "stream",
          "name": "stdout",
          "text": [
            "w:  tensor([1.9485], requires_grad=True)\n",
            "b:  tensor([1.0095], requires_grad=True)\n"
          ]
        }
      ]
    },
    {
      "cell_type": "code",
      "source": [
        "plt.plot(x,y,'o')\n",
        "plt.plot(x_tensor.numpy(),y_pred.detach().numpy())\n",
        "plt.show()"
      ],
      "metadata": {
        "id": "K1z9-ZjPKaop",
        "colab": {
          "base_uri": "https://localhost:8080/",
          "height": 430
        },
        "outputId": "82443b0f-170b-43b7-b2d0-9126c8096cd5"
      },
      "execution_count": 7,
      "outputs": [
        {
          "output_type": "display_data",
          "data": {
            "text/plain": [
              "<Figure size 640x480 with 1 Axes>"
            ],
            "image/png": "[encoded data removed]"
          },
          "metadata": {}
        }
      ]
    },
    {
      "cell_type": "code",
      "source": [],
      "metadata": {
        "id": "ncOqrGJkKasJ"
      },
      "execution_count": null,
      "outputs": []
    }
  ]
}